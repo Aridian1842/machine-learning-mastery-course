{
 "cells": [
  {
   "cell_type": "code",
   "execution_count": 34,
   "metadata": {
    "collapsed": false
   },
   "outputs": [],
   "source": [
    "# LSTM for international airline passengers problem with regression framing\n",
    "import numpy\n",
    "import matplotlib.pyplot as plt\n",
    "import pandas\n",
    "import math\n",
    "from keras.models import Sequential\n",
    "from keras.layers import Dense\n",
    "from keras.layers import LSTM\n",
    "from sklearn.preprocessing import MinMaxScaler\n",
    "%matplotlib inline\n",
    "\n",
    "# fix random seed for reproducibility\n",
    "numpy.random.seed(42)"
   ]
  },
  {
   "cell_type": "code",
   "execution_count": 4,
   "metadata": {
    "collapsed": true
   },
   "outputs": [],
   "source": [
    "# convert an array of values into a dataset matrix\n",
    "def create_dataset(dataset, look_back=1):\n",
    "    dataX, dataY = [], []\n",
    "    for i in range(len(dataset)-look_back-1):\n",
    "        a = dataset[i:(i+look_back), 0]\n",
    "        dataX.append(a)\n",
    "        dataY.append(dataset[i + look_back, 0])\n",
    "    return numpy.array(dataX), numpy.array(dataY)"
   ]
  },
  {
   "cell_type": "code",
   "execution_count": 5,
   "metadata": {
    "collapsed": true
   },
   "outputs": [],
   "source": [
    "# load the dataset\n",
    "dataframe = pandas.read_csv('international-airline-passengers.csv', usecols=[1], engine='python', skipfooter=3)\n",
    "dataset = dataframe.values\n",
    "dataset = dataset.astype('float32')\n",
    "# normalize the dataset\n",
    "scaler = MinMaxScaler(feature_range=(0, 1))\n",
    "dataset = scaler.fit_transform(dataset)"
   ]
  },
  {
   "cell_type": "code",
   "execution_count": 6,
   "metadata": {
    "collapsed": true
   },
   "outputs": [],
   "source": [
    "# split into train and test sets\n",
    "train_size = int(len(dataset) * 0.67)\n",
    "test_size = len(dataset) - train_size\n",
    "train, test = dataset[0:train_size,:], dataset[train_size:len(dataset),:]"
   ]
  },
  {
   "cell_type": "code",
   "execution_count": 26,
   "metadata": {
    "collapsed": true
   },
   "outputs": [],
   "source": [
    "# reshape into X=t and Y=t+1\n",
    "look_back = 1\n",
    "trainX, trainY = create_dataset(train, look_back)\n",
    "testX, testY = create_dataset(test, look_back)"
   ]
  },
  {
   "cell_type": "code",
   "execution_count": 27,
   "metadata": {
    "collapsed": false
   },
   "outputs": [
    {
     "name": "stdout",
     "output_type": "stream",
     "text": [
      "[[ 0.01544401]\n",
      " [ 0.02702703]\n",
      " [ 0.05405405]\n",
      " [ 0.04826255]\n",
      " [ 0.03281853]\n",
      " [ 0.05984557]\n",
      " [ 0.08494207]\n",
      " [ 0.08494207]\n",
      " [ 0.06177607]\n",
      " [ 0.02895753]]\n",
      "[ 0.02702703  0.05405405  0.04826255  0.03281853  0.05984557  0.08494207\n",
      "  0.08494207  0.06177607  0.02895753  0.        ]\n"
     ]
    }
   ],
   "source": [
    "print(trainX[:10])\n",
    "print(trainY[:10])"
   ]
  },
  {
   "cell_type": "code",
   "execution_count": 28,
   "metadata": {
    "collapsed": false
   },
   "outputs": [],
   "source": [
    "# reshape input to be [samples, time steps, features]\n",
    "trainX = numpy.reshape(trainX, (trainX.shape[0], 1, trainX.shape[1]))\n",
    "testX = numpy.reshape(testX, (testX.shape[0], 1, testX.shape[1]))"
   ]
  },
  {
   "cell_type": "code",
   "execution_count": 29,
   "metadata": {
    "collapsed": false
   },
   "outputs": [
    {
     "name": "stdout",
     "output_type": "stream",
     "text": [
      "[[[ 0.01544401]]\n",
      "\n",
      " [[ 0.02702703]]\n",
      "\n",
      " [[ 0.05405405]]\n",
      "\n",
      " [[ 0.04826255]]\n",
      "\n",
      " [[ 0.03281853]]\n",
      "\n",
      " [[ 0.05984557]]\n",
      "\n",
      " [[ 0.08494207]]\n",
      "\n",
      " [[ 0.08494207]]\n",
      "\n",
      " [[ 0.06177607]]\n",
      "\n",
      " [[ 0.02895753]]]\n"
     ]
    }
   ],
   "source": [
    "print(trainX[:10])"
   ]
  },
  {
   "cell_type": "code",
   "execution_count": 30,
   "metadata": {
    "collapsed": true
   },
   "outputs": [],
   "source": [
    "# create and fit the LSTM network\n",
    "model = Sequential()\n",
    "model.add(LSTM(4, input_dim=look_back))\n",
    "model.add(Dense(1))\n",
    "model.compile(loss='mean_squared_error', optimizer='adam')"
   ]
  },
  {
   "cell_type": "code",
   "execution_count": 31,
   "metadata": {
    "collapsed": false
   },
   "outputs": [
    {
     "name": "stdout",
     "output_type": "stream",
     "text": [
      "Epoch 1/100\n",
      "0s - loss: 0.0906\n",
      "Epoch 2/100\n",
      "0s - loss: 0.0496\n",
      "Epoch 3/100\n",
      "0s - loss: 0.0338\n",
      "Epoch 4/100\n",
      "0s - loss: 0.0279\n",
      "Epoch 5/100\n",
      "0s - loss: 0.0253\n",
      "Epoch 6/100\n",
      "0s - loss: 0.0235\n",
      "Epoch 7/100\n",
      "0s - loss: 0.0220\n",
      "Epoch 8/100\n",
      "0s - loss: 0.0206\n",
      "Epoch 9/100\n",
      "0s - loss: 0.0191\n",
      "Epoch 10/100\n",
      "0s - loss: 0.0175\n",
      "Epoch 11/100\n",
      "0s - loss: 0.0160\n",
      "Epoch 12/100\n",
      "0s - loss: 0.0143\n",
      "Epoch 13/100\n",
      "0s - loss: 0.0127\n",
      "Epoch 14/100\n",
      "0s - loss: 0.0110\n",
      "Epoch 15/100\n",
      "0s - loss: 0.0093\n",
      "Epoch 16/100\n",
      "0s - loss: 0.0075\n",
      "Epoch 17/100\n",
      "0s - loss: 0.0060\n",
      "Epoch 18/100\n",
      "0s - loss: 0.0047\n",
      "Epoch 19/100\n",
      "0s - loss: 0.0037\n",
      "Epoch 20/100\n",
      "0s - loss: 0.0030\n",
      "Epoch 21/100\n",
      "0s - loss: 0.0026\n",
      "Epoch 22/100\n",
      "0s - loss: 0.0023\n",
      "Epoch 23/100\n",
      "0s - loss: 0.0021\n",
      "Epoch 24/100\n",
      "0s - loss: 0.0020\n",
      "Epoch 25/100\n",
      "0s - loss: 0.0020\n",
      "Epoch 26/100\n",
      "0s - loss: 0.0020\n",
      "Epoch 27/100\n",
      "0s - loss: 0.0020\n",
      "Epoch 28/100\n",
      "0s - loss: 0.0020\n",
      "Epoch 29/100\n",
      "0s - loss: 0.0020\n",
      "Epoch 30/100\n",
      "0s - loss: 0.0020\n",
      "Epoch 31/100\n",
      "0s - loss: 0.0020\n",
      "Epoch 32/100\n",
      "0s - loss: 0.0019\n",
      "Epoch 33/100\n",
      "0s - loss: 0.0020\n",
      "Epoch 34/100\n",
      "0s - loss: 0.0020\n",
      "Epoch 35/100\n",
      "0s - loss: 0.0020\n",
      "Epoch 36/100\n",
      "0s - loss: 0.0019\n",
      "Epoch 37/100\n",
      "0s - loss: 0.0020\n",
      "Epoch 38/100\n",
      "0s - loss: 0.0019\n",
      "Epoch 39/100\n",
      "0s - loss: 0.0019\n",
      "Epoch 40/100\n",
      "0s - loss: 0.0019\n",
      "Epoch 41/100\n",
      "0s - loss: 0.0020\n",
      "Epoch 42/100\n",
      "0s - loss: 0.0019\n",
      "Epoch 43/100\n",
      "0s - loss: 0.0020\n",
      "Epoch 44/100\n",
      "0s - loss: 0.0020\n",
      "Epoch 45/100\n",
      "0s - loss: 0.0020\n",
      "Epoch 46/100\n",
      "0s - loss: 0.0020\n",
      "Epoch 47/100\n",
      "0s - loss: 0.0020\n",
      "Epoch 48/100\n",
      "0s - loss: 0.0020\n",
      "Epoch 49/100\n",
      "0s - loss: 0.0020\n",
      "Epoch 50/100\n",
      "0s - loss: 0.0020\n",
      "Epoch 51/100\n",
      "0s - loss: 0.0019\n",
      "Epoch 52/100\n",
      "0s - loss: 0.0021\n",
      "Epoch 53/100\n",
      "0s - loss: 0.0020\n",
      "Epoch 54/100\n",
      "0s - loss: 0.0021\n",
      "Epoch 55/100\n",
      "0s - loss: 0.0020\n",
      "Epoch 56/100\n",
      "0s - loss: 0.0020\n",
      "Epoch 57/100\n",
      "0s - loss: 0.0020\n",
      "Epoch 58/100\n",
      "0s - loss: 0.0020\n",
      "Epoch 59/100\n",
      "0s - loss: 0.0020\n",
      "Epoch 60/100\n",
      "0s - loss: 0.0019\n",
      "Epoch 61/100\n",
      "0s - loss: 0.0020\n",
      "Epoch 62/100\n",
      "0s - loss: 0.0020\n",
      "Epoch 63/100\n",
      "0s - loss: 0.0020\n",
      "Epoch 64/100\n",
      "0s - loss: 0.0020\n",
      "Epoch 65/100\n",
      "0s - loss: 0.0020\n",
      "Epoch 66/100\n",
      "0s - loss: 0.0020\n",
      "Epoch 67/100\n",
      "0s - loss: 0.0019\n",
      "Epoch 68/100\n",
      "0s - loss: 0.0019\n",
      "Epoch 69/100\n",
      "0s - loss: 0.0020\n",
      "Epoch 70/100\n",
      "0s - loss: 0.0020\n",
      "Epoch 71/100\n",
      "0s - loss: 0.0019\n",
      "Epoch 72/100\n",
      "0s - loss: 0.0020\n",
      "Epoch 73/100\n",
      "0s - loss: 0.0020\n",
      "Epoch 74/100\n",
      "0s - loss: 0.0019\n",
      "Epoch 75/100\n",
      "0s - loss: 0.0020\n",
      "Epoch 76/100\n",
      "0s - loss: 0.0020\n",
      "Epoch 77/100\n",
      "0s - loss: 0.0020\n",
      "Epoch 78/100\n",
      "0s - loss: 0.0020\n",
      "Epoch 79/100\n",
      "0s - loss: 0.0020\n",
      "Epoch 80/100\n",
      "0s - loss: 0.0019\n",
      "Epoch 81/100\n",
      "0s - loss: 0.0020\n",
      "Epoch 82/100\n",
      "0s - loss: 0.0020\n",
      "Epoch 83/100\n",
      "0s - loss: 0.0020\n",
      "Epoch 84/100\n",
      "0s - loss: 0.0020\n",
      "Epoch 85/100\n",
      "0s - loss: 0.0020\n",
      "Epoch 86/100\n",
      "0s - loss: 0.0020\n",
      "Epoch 87/100\n",
      "0s - loss: 0.0019\n",
      "Epoch 88/100\n",
      "0s - loss: 0.0020\n",
      "Epoch 89/100\n",
      "0s - loss: 0.0020\n",
      "Epoch 90/100\n",
      "0s - loss: 0.0020\n",
      "Epoch 91/100\n",
      "0s - loss: 0.0020\n",
      "Epoch 92/100\n",
      "0s - loss: 0.0020\n",
      "Epoch 93/100\n",
      "0s - loss: 0.0020\n",
      "Epoch 94/100\n",
      "0s - loss: 0.0019\n",
      "Epoch 95/100\n",
      "0s - loss: 0.0020\n",
      "Epoch 96/100\n",
      "0s - loss: 0.0020\n",
      "Epoch 97/100\n",
      "0s - loss: 0.0019\n",
      "Epoch 98/100\n",
      "0s - loss: 0.0020\n",
      "Epoch 99/100\n",
      "0s - loss: 0.0020\n",
      "Epoch 100/100\n",
      "0s - loss: 0.0019\n"
     ]
    },
    {
     "data": {
      "text/plain": [
       "<keras.callbacks.History at 0x7f991c604dd0>"
      ]
     },
     "execution_count": 31,
     "metadata": {},
     "output_type": "execute_result"
    }
   ],
   "source": [
    "model.fit(trainX, trainY, nb_epoch=100, batch_size=1, verbose=2)"
   ]
  },
  {
   "cell_type": "code",
   "execution_count": 32,
   "metadata": {
    "collapsed": false
   },
   "outputs": [
    {
     "name": "stdout",
     "output_type": "stream",
     "text": [
      "Train Score: 126.89 RMSE\n",
      "Test Score: 163.02 RMSE\n"
     ]
    }
   ],
   "source": [
    "# Estimate model performance\n",
    "trainScore = model.evaluate(trainX, trainY, verbose=0)\n",
    "trainScore = math.sqrt(trainScore)\n",
    "trainScore = scaler.inverse_transform(numpy.array([[trainScore]]))\n",
    "print('Train Score: %.2f RMSE' % (trainScore))\n",
    "testScore = model.evaluate(testX, testY, verbose=0)\n",
    "testScore = math.sqrt(testScore)\n",
    "testScore = scaler.inverse_transform(numpy.array([[testScore]]))\n",
    "print('Test Score: %.2f RMSE' % (testScore))"
   ]
  },
  {
   "cell_type": "code",
   "execution_count": 35,
   "metadata": {
    "collapsed": false
   },
   "outputs": [
    {
     "data": {
      "image/png": "[encoded data removed]",
      "text/plain": [
       "<matplotlib.figure.Figure at 0x7f991b344050>"
      ]
     },
     "metadata": {},
     "output_type": "display_data"
    }
   ],
   "source": [
    "# generate predictions for training\n",
    "trainPredict = model.predict(trainX)\n",
    "testPredict = model.predict(testX)\n",
    "# shift train predictions for plotting\n",
    "trainPredictPlot = numpy.empty_like(dataset)\n",
    "trainPredictPlot[:, :] = numpy.nan\n",
    "trainPredictPlot[look_back:len(trainPredict)+look_back, :] = trainPredict\n",
    "# shift test predictions for plotting\n",
    "testPredictPlot = numpy.empty_like(dataset)\n",
    "testPredictPlot[:, :] = numpy.nan\n",
    "testPredictPlot[len(trainPredict)+(look_back*2)+1:len(dataset)-1, :] = testPredict\n",
    "# plot baseline and predictions\n",
    "plt.plot(dataset)\n",
    "plt.plot(trainPredictPlot)\n",
    "plt.plot(testPredictPlot)\n",
    "plt.show()"
   ]
  },
  {
   "cell_type": "markdown",
   "metadata": {},
   "source": [
    "# Using a variable number of time steps"
   ]
  },
  {
   "cell_type": "code",
   "execution_count": 43,
   "metadata": {
    "collapsed": false
   },
   "outputs": [
    {
     "data": {
      "text/plain": [
       "array([[ 0.01544401,  0.02702703,  0.05405405],\n",
       "       [ 0.02702703,  0.05405405,  0.04826255],\n",
       "       [ 0.05405405,  0.04826255,  0.03281853],\n",
       "       [ 0.04826255,  0.03281853,  0.05984557],\n",
       "       [ 0.03281853,  0.05984557,  0.08494207],\n",
       "       [ 0.05984557,  0.08494207,  0.08494207],\n",
       "       [ 0.08494207,  0.08494207,  0.06177607],\n",
       "       [ 0.08494207,  0.06177607,  0.02895753],\n",
       "       [ 0.06177607,  0.02895753,  0.        ],\n",
       "       [ 0.02895753,  0.        ,  0.02702703]], dtype=float32)"
      ]
     },
     "execution_count": 43,
     "metadata": {},
     "output_type": "execute_result"
    }
   ],
   "source": [
    "# reshape into X=t and Y=t+1\n",
    "look_back = 3\n",
    "trainX, trainY = create_dataset(train, look_back)\n",
    "testX, testY = create_dataset(test, look_back)\n",
    "trainX[:10]"
   ]
  },
  {
   "cell_type": "code",
   "execution_count": 44,
   "metadata": {
    "collapsed": false
   },
   "outputs": [
    {
     "data": {
      "text/plain": [
       "array([[[ 0.01544401],\n",
       "        [ 0.02702703],\n",
       "        [ 0.05405405]],\n",
       "\n",
       "       [[ 0.02702703],\n",
       "        [ 0.05405405],\n",
       "        [ 0.04826255]],\n",
       "\n",
       "       [[ 0.05405405],\n",
       "        [ 0.04826255],\n",
       "        [ 0.03281853]],\n",
       "\n",
       "       [[ 0.04826255],\n",
       "        [ 0.03281853],\n",
       "        [ 0.05984557]],\n",
       "\n",
       "       [[ 0.03281853],\n",
       "        [ 0.05984557],\n",
       "        [ 0.08494207]],\n",
       "\n",
       "       [[ 0.05984557],\n",
       "        [ 0.08494207],\n",
       "        [ 0.08494207]],\n",
       "\n",
       "       [[ 0.08494207],\n",
       "        [ 0.08494207],\n",
       "        [ 0.06177607]],\n",
       "\n",
       "       [[ 0.08494207],\n",
       "        [ 0.06177607],\n",
       "        [ 0.02895753]],\n",
       "\n",
       "       [[ 0.06177607],\n",
       "        [ 0.02895753],\n",
       "        [ 0.        ]],\n",
       "\n",
       "       [[ 0.02895753],\n",
       "        [ 0.        ],\n",
       "        [ 0.02702703]]], dtype=float32)"
      ]
     },
     "execution_count": 44,
     "metadata": {},
     "output_type": "execute_result"
    }
   ],
   "source": [
    "# reshape input to be [samples, time steps, features]\n",
    "trainX = numpy.reshape(trainX, (trainX.shape[0], trainX.shape[1], 1))\n",
    "testX = numpy.reshape(testX, (testX.shape[0], testX.shape[1], 1))\n",
    "trainX[:10]"
   ]
  },
  {
   "cell_type": "code",
   "execution_count": 45,
   "metadata": {
    "collapsed": false
   },
   "outputs": [
    {
     "name": "stdout",
     "output_type": "stream",
     "text": [
      "Epoch 1/100\n",
      "0s - loss: 0.1724\n",
      "Epoch 2/100\n",
      "0s - loss: 0.0845\n",
      "Epoch 3/100\n",
      "0s - loss: 0.0540\n",
      "Epoch 4/100\n",
      "0s - loss: 0.0406\n",
      "Epoch 5/100\n",
      "0s - loss: 0.0330\n",
      "Epoch 6/100\n",
      "0s - loss: 0.0271\n",
      "Epoch 7/100\n",
      "0s - loss: 0.0218\n",
      "Epoch 8/100\n",
      "0s - loss: 0.0171\n",
      "Epoch 9/100\n",
      "0s - loss: 0.0125\n",
      "Epoch 10/100\n",
      "0s - loss: 0.0090\n",
      "Epoch 11/100\n",
      "0s - loss: 0.0068\n",
      "Epoch 12/100\n",
      "0s - loss: 0.0056\n",
      "Epoch 13/100\n",
      "0s - loss: 0.0050\n",
      "Epoch 14/100\n",
      "0s - loss: 0.0047\n",
      "Epoch 15/100\n",
      "0s - loss: 0.0046\n",
      "Epoch 16/100\n",
      "0s - loss: 0.0047\n",
      "Epoch 17/100\n",
      "0s - loss: 0.0045\n",
      "Epoch 18/100\n",
      "0s - loss: 0.0045\n",
      "Epoch 19/100\n",
      "0s - loss: 0.0046\n",
      "Epoch 20/100\n",
      "0s - loss: 0.0045\n",
      "Epoch 21/100\n",
      "0s - loss: 0.0046\n",
      "Epoch 22/100\n",
      "0s - loss: 0.0047\n",
      "Epoch 23/100\n",
      "0s - loss: 0.0043\n",
      "Epoch 24/100\n",
      "0s - loss: 0.0043\n",
      "Epoch 25/100\n",
      "0s - loss: 0.0043\n",
      "Epoch 26/100\n",
      "0s - loss: 0.0043\n",
      "Epoch 27/100\n",
      "0s - loss: 0.0044\n",
      "Epoch 28/100\n",
      "0s - loss: 0.0042\n",
      "Epoch 29/100\n",
      "0s - loss: 0.0041\n",
      "Epoch 30/100\n",
      "0s - loss: 0.0042\n",
      "Epoch 31/100\n",
      "0s - loss: 0.0042\n",
      "Epoch 32/100\n",
      "0s - loss: 0.0041\n",
      "Epoch 33/100\n",
      "0s - loss: 0.0042\n",
      "Epoch 34/100\n",
      "0s - loss: 0.0041\n",
      "Epoch 35/100\n",
      "0s - loss: 0.0041\n",
      "Epoch 36/100\n",
      "0s - loss: 0.0041\n",
      "Epoch 37/100\n",
      "0s - loss: 0.0040\n",
      "Epoch 38/100\n",
      "0s - loss: 0.0040\n",
      "Epoch 39/100\n",
      "0s - loss: 0.0041\n",
      "Epoch 40/100\n",
      "0s - loss: 0.0039\n",
      "Epoch 41/100\n",
      "0s - loss: 0.0039\n",
      "Epoch 42/100\n",
      "0s - loss: 0.0039\n",
      "Epoch 43/100\n",
      "0s - loss: 0.0039\n",
      "Epoch 44/100\n",
      "0s - loss: 0.0039\n",
      "Epoch 45/100\n",
      "0s - loss: 0.0038\n",
      "Epoch 46/100\n",
      "0s - loss: 0.0037\n",
      "Epoch 47/100\n",
      "0s - loss: 0.0038\n",
      "Epoch 48/100\n",
      "0s - loss: 0.0038\n",
      "Epoch 49/100\n",
      "0s - loss: 0.0037\n",
      "Epoch 50/100\n",
      "0s - loss: 0.0037\n",
      "Epoch 51/100\n",
      "0s - loss: 0.0037\n",
      "Epoch 52/100\n",
      "0s - loss: 0.0037\n",
      "Epoch 53/100\n",
      "0s - loss: 0.0037\n",
      "Epoch 54/100\n",
      "0s - loss: 0.0036\n",
      "Epoch 55/100\n",
      "0s - loss: 0.0037\n",
      "Epoch 56/100\n",
      "0s - loss: 0.0036\n",
      "Epoch 57/100\n",
      "0s - loss: 0.0035\n",
      "Epoch 58/100\n",
      "0s - loss: 0.0035\n",
      "Epoch 59/100\n",
      "0s - loss: 0.0035\n",
      "Epoch 60/100\n",
      "0s - loss: 0.0034\n",
      "Epoch 61/100\n",
      "0s - loss: 0.0035\n",
      "Epoch 62/100\n",
      "0s - loss: 0.0034\n",
      "Epoch 63/100\n",
      "0s - loss: 0.0036\n",
      "Epoch 64/100\n",
      "0s - loss: 0.0034\n",
      "Epoch 65/100\n",
      "0s - loss: 0.0034\n",
      "Epoch 66/100\n",
      "0s - loss: 0.0033\n",
      "Epoch 67/100\n",
      "0s - loss: 0.0034\n",
      "Epoch 68/100\n",
      "0s - loss: 0.0033\n",
      "Epoch 69/100\n",
      "0s - loss: 0.0032\n",
      "Epoch 70/100\n",
      "0s - loss: 0.0032\n",
      "Epoch 71/100\n",
      "0s - loss: 0.0033\n",
      "Epoch 72/100\n",
      "0s - loss: 0.0032\n",
      "Epoch 73/100\n",
      "0s - loss: 0.0032\n",
      "Epoch 74/100\n",
      "0s - loss: 0.0032\n",
      "Epoch 75/100\n",
      "0s - loss: 0.0032\n",
      "Epoch 76/100\n",
      "0s - loss: 0.0031\n",
      "Epoch 77/100\n",
      "0s - loss: 0.0031\n",
      "Epoch 78/100\n",
      "0s - loss: 0.0031\n",
      "Epoch 79/100\n",
      "0s - loss: 0.0030\n",
      "Epoch 80/100\n",
      "0s - loss: 0.0031\n",
      "Epoch 81/100\n",
      "0s - loss: 0.0030\n",
      "Epoch 82/100\n",
      "0s - loss: 0.0030\n",
      "Epoch 83/100\n",
      "0s - loss: 0.0030\n",
      "Epoch 84/100\n",
      "0s - loss: 0.0030\n",
      "Epoch 85/100\n",
      "0s - loss: 0.0029\n",
      "Epoch 86/100\n",
      "0s - loss: 0.0029\n",
      "Epoch 87/100\n",
      "0s - loss: 0.0029\n",
      "Epoch 88/100\n",
      "0s - loss: 0.0028\n",
      "Epoch 89/100\n",
      "0s - loss: 0.0028\n",
      "Epoch 90/100\n",
      "0s - loss: 0.0029\n",
      "Epoch 91/100\n",
      "0s - loss: 0.0029\n",
      "Epoch 92/100\n",
      "0s - loss: 0.0028\n",
      "Epoch 93/100\n",
      "0s - loss: 0.0028\n",
      "Epoch 94/100\n",
      "0s - loss: 0.0027\n",
      "Epoch 95/100\n",
      "0s - loss: 0.0028\n",
      "Epoch 96/100\n",
      "0s - loss: 0.0028\n",
      "Epoch 97/100\n",
      "0s - loss: 0.0027\n",
      "Epoch 98/100\n",
      "0s - loss: 0.0027\n",
      "Epoch 99/100\n",
      "0s - loss: 0.0027\n",
      "Epoch 100/100\n",
      "0s - loss: 0.0027\n"
     ]
    },
    {
     "data": {
      "text/plain": [
       "<keras.callbacks.History at 0x7f9914de97d0>"
      ]
     },
     "execution_count": 45,
     "metadata": {},
     "output_type": "execute_result"
    }
   ],
   "source": [
    "# create and fit the LSTM network\n",
    "model = Sequential()\n",
    "model.add(LSTM(4, input_dim=6))\n",
    "model.add(Dense(1))\n",
    "model.compile(loss='mean_squared_error', optimizer='adam')\n",
    "model.fit(trainX, trainY, nb_epoch=100, batch_size=1, verbose=2)"
   ]
  },
  {
   "cell_type": "code",
   "execution_count": 47,
   "metadata": {
    "collapsed": false
   },
   "outputs": [
    {
     "data": {
      "text/plain": [
       "(92, 3, 1)"
      ]
     },
     "execution_count": 47,
     "metadata": {},
     "output_type": "execute_result"
    }
   ],
   "source": [
    "trainX.shape"
   ]
  },
  {
   "cell_type": "code",
   "execution_count": 48,
   "metadata": {
    "collapsed": false
   },
   "outputs": [
    {
     "name": "stdout",
     "output_type": "stream",
     "text": [
      "Train Score: 130.30 RMSE\n",
      "Test Score: 173.62 RMSE\n"
     ]
    }
   ],
   "source": [
    "# Estimate model performance\n",
    "trainScore = model.evaluate(trainX, trainY, verbose=0)\n",
    "trainScore = math.sqrt(trainScore)\n",
    "trainScore = scaler.inverse_transform(numpy.array([[trainScore]]))\n",
    "print('Train Score: %.2f RMSE' % (trainScore))\n",
    "testScore = model.evaluate(testX, testY, verbose=0)\n",
    "testScore = math.sqrt(testScore)\n",
    "testScore = scaler.inverse_transform(numpy.array([[testScore]]))\n",
    "print('Test Score: %.2f RMSE' % (testScore))"
   ]
  },
  {
   "cell_type": "code",
   "execution_count": null,
   "metadata": {
    "collapsed": true
   },
   "outputs": [],
   "source": []
  }
 ],
 "metadata": {
  "kernelspec": {
   "display_name": "Python 2",
   "language": "python",
   "name": "python2"
  },
  "language_info": {
   "codemirror_mode": {
    "name": "ipython",
    "version": 2
   },
   "file_extension": ".py",
   "mimetype": "text/x-python",
   "name": "python",
   "nbconvert_exporter": "python",
   "pygments_lexer": "ipython2",
   "version": "2.7.12"
  }
 },
 "nbformat": 4,
 "nbformat_minor": 0
}
